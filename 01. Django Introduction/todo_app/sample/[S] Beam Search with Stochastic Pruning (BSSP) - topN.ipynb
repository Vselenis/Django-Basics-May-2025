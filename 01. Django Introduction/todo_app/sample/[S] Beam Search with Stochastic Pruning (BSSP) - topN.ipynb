{
 "cells": [
  {
   "cell_type": "code",
   "execution_count": 13,
   "metadata": {},
   "outputs": [],
   "source": [
    "import pandas as pd\n",
    "import numpy as np\n",
    "from openpyxl import load_workbook"
   ]
  },
  {
   "cell_type": "code",
   "execution_count": 14,
   "metadata": {},
   "outputs": [],
   "source": [
    "# Function to import the data from the Excel file\n",
    "def load_datasets(benchmark_file='Benchmark.csv', target_file='Target.csv'):\n",
    "    df_benchmark = pd.read_csv(benchmark_file, delimiter=';', decimal=',')\n",
    "    df_target = pd.read_csv(target_file, delimiter=';', decimal=',')\n",
    "\n",
    "    # Convert all columns to numeric, coercing errors to NaN\n",
    "    df_benchmark = df_benchmark.apply(pd.to_numeric, errors='coerce')\n",
    "    df_target = df_target.apply(pd.to_numeric, errors='coerce')\n",
    "\n",
    "    return df_benchmark, df_target"
   ]
  },
  {
   "cell_type": "code",
   "execution_count": 15,
   "metadata": {},
   "outputs": [],
   "source": [
    "# Function to calculate the necessary metrics for both datasets\n",
    "def calculate_metrics(df, target_size, weights):\n",
    "    metrics = {}\n",
    "\n",
    "    # Handle 'collection' and 'payments' separately\n",
    "    if 'Payments' in df.columns:\n",
    "        total_paid = df['Payments'].sum()  # Total paid\n",
    "        total_debt = df['Debt'].sum()  # Total debt\n",
    "        metrics['collection'] = total_paid / (total_debt + total_paid) if total_debt + total_paid != 0 else 0  # % of collection\n",
    "        metrics['payments'] = df['Payments'].notnull().sum() / len(df)\n",
    "    elif 'LP' in df.columns:\n",
    "        metrics['collection'] = None\n",
    "        metrics['payments'] = df['LP'].notnull().sum() / len(df)\n",
    "    else:\n",
    "        metrics['collection'] = None\n",
    "        metrics['payments'] = None\n",
    "\n",
    "    # Calculate mean for each metric in weights if the column exists\n",
    "    for column in weights.keys():\n",
    "        if column in ['collection', 'payments']:\n",
    "            continue  # already handled\n",
    "        metrics[column] = df[column].mean(skipna=True) if column in df.columns else None   # Calculate averages for all columns, skipping empty cells\n",
    "\n",
    "    return metrics"
   ]
  },
  {
   "cell_type": "code",
   "execution_count": 16,
   "metadata": {},
   "outputs": [],
   "source": [
    "# Objective function to minimize the difference between benchmark and target metrics\n",
    "def objective_function(selected_indices, df_benchmark, df_target, target_metrics, weights):\n",
    "    sample = df_benchmark.iloc[selected_indices]  # Select rows based on indices\n",
    "    sample_metrics = calculate_metrics(sample, len(selected_indices), weights)  # Calculate metrics for sample\n",
    "\n",
    "    # Calculate the weighted percentage difference\n",
    "    percentage_diff = 0\n",
    "    for key in weights.keys():\n",
    "        percentage_diff += weights[key] * abs((sample_metrics[key] - target_metrics[key]) / target_metrics[key]) * 100\n",
    "\n",
    "    return percentage_diff"
   ]
  },
  {
   "cell_type": "code",
   "execution_count": 17,
   "metadata": {},
   "outputs": [],
   "source": [
    "# Beam Search with Stochastic Pruning\n",
    "def beam_search_stochastic_pruning(df_benchmark, df_target, weights, target_size, beam_width=24, top_k=5):\n",
    "    target_metrics = calculate_metrics(df_target, target_size, weights)\n",
    "    candidates = [[]]  # Start with an empty candidate list\n",
    "\n",
    "    for _ in range(target_size):\n",
    "        new_candidates = []\n",
    "\n",
    "        for candidate in candidates:\n",
    "            available_indices = [i for i in range(len(df_benchmark)) if i not in candidate]\n",
    "\n",
    "            # Probabilities for stochastic sampling\n",
    "            probabilities = [1.0 / (i + 1) for i in range(len(available_indices))]\n",
    "            probabilities = np.array(probabilities) / sum(probabilities)\n",
    "\n",
    "            sampled_indices = np.random.choice(available_indices, size=min(beam_width, len(available_indices)), replace=False, p=probabilities)\n",
    "\n",
    "            for idx in sampled_indices:\n",
    "                new_candidate = candidate + [idx]\n",
    "                if len(new_candidate) == len(set(new_candidate)):\n",
    "                    new_candidates.append(new_candidate)\n",
    "\n",
    "        # Sort candidates by objective value and keep top beam_width\n",
    "        new_candidates = sorted(new_candidates, key=lambda x: objective_function(x, df_benchmark, df_target, target_metrics, weights))\n",
    "        candidates = new_candidates[:beam_width]\n",
    "\n",
    "    # Return top_k solutions\n",
    "    top_candidates = sorted(candidates, key=lambda x: objective_function(x, df_benchmark, df_target, target_metrics, weights))[:top_k]\n",
    "    return top_candidates\n",
    "\n",
    "def beam_search_stochastic_pruning(df_benchmark, df_target, weights, target_size, beam_width=24, top_k=5):\n",
    "    target_metrics = calculate_metrics(df_target, target_size, weights)\n",
    "    candidates = [[]]  # Start with an empty candidate list\n",
    "    score_cache = {}  # Cache to store scores for each candidate\n",
    "\n",
    "    for _ in range(target_size):\n",
    "        new_candidates = []\n",
    "\n",
    "        for candidate in candidates:\n",
    "            available_indices = [i for i in range(len(df_benchmark)) if i not in candidate]\n",
    "\n",
    "            # Probabilities for stochastic sampling (bias toward earlier indices)\n",
    "            for idx in sampled_indices:\n",
    "                new_candidate = candidate + [idx]\n",
    "                if len(new_candidate) == len(set(new_candidate)):  # Ensure uniqueness\n",
    "                    new_candidates.append(new_candidate)\n",
    "\n",
    "        # Score candidates using caching\n",
    "        scored_candidates = []\n",
    "        for cand in new_candidates:\n",
    "            key = tuple(sorted(cand))\n",
    "            if key in score_cache:\n",
    "                score = score_cache[key]\n",
    "            else:\n",
    "                score = objective_function(cand, df_benchmark, df_target, target_metrics, weights)\n",
    "                score_cache[key] = score\n",
    "            scored_candidates.append((cand, score))\n",
    "\n",
    "        # Sort candidates by cached scores and keep top ones\n",
    "        scored_candidates.sort(key=lambda x: x[1])\n",
    "        candidates = [x[0] for x in scored_candidates[:beam_width]]\n",
    "\n",
    "    # Return top_k final candidates based on cached scores\n",
    "    final_candidates = sorted(candidates, key=lambda x: score_cache[tuple(sorted(x))])[:top_k]\n",
    "    return final_candidates\n"
   ]
  },
  {
   "cell_type": "code",
   "execution_count": 18,
   "metadata": {},
   "outputs": [],
   "source": [
    "def write_results_to_csv(df_benchmark, list_of_selected_indices, benchmark_file='Benchmark.csv'):\n",
    "    # Add a column for each candidate solution\n",
    "    for i, selected_indices in enumerate(list_of_selected_indices, start=1):\n",
    "        sample_col = f'Sample {i}'\n",
    "        df_benchmark[sample_col] = 0\n",
    "        df_benchmark.loc[selected_indices, sample_col] = 1\n",
    "\n",
    "    # Write to CSV\n",
    "    df_benchmark.to_csv(benchmark_file, sep=';', index=False)"
   ]
  },
  {
   "cell_type": "code",
   "execution_count": 19,
   "metadata": {},
   "outputs": [],
   "source": [
    "# Main function to run the process\n",
    "def main():\n",
    "    df_benchmark, df_target =  load_datasets()\n",
    "\n",
    "    # Define the column weights\n",
    "    weights = {\n",
    "        'Debt': 0.20,\n",
    "        'GR': 0.05,\n",
    "        'LP': 0.10,        \n",
    "        'DPD': 0.10,\n",
    "        'GRDPD': 0.10,\n",
    "        'GRLP': 0.10,\n",
    "        'collection': 0.15,\n",
    "        'payments': 0.10\n",
    "    }\n",
    "\n",
    "\n",
    "    # Perform Beam Search with Stochastic Pruning to select the best rows\n",
    "    target_size = 120\n",
    "\n",
    "    top_candidates = beam_search_stochastic_pruning(df_benchmark, df_target, weights, target_size)\n",
    "\n",
    "    # Write the results back to the Excel file, adding a new sample column\n",
    "    write_results_to_csv(df_benchmark, top_candidates)"
   ]
  },
  {
   "cell_type": "code",
   "execution_count": 20,
   "metadata": {},
   "outputs": [
    {
     "ename": "NameError",
     "evalue": "name 'sampled_indices' is not defined",
     "output_type": "error",
     "traceback": [
      "\u001b[31m---------------------------------------------------------------------------\u001b[39m",
      "\u001b[31mNameError\u001b[39m                                 Traceback (most recent call last)",
      "\u001b[36mCell\u001b[39m\u001b[36m \u001b[39m\u001b[32mIn[20]\u001b[39m\u001b[32m, line 2\u001b[39m\n\u001b[32m      1\u001b[39m \u001b[38;5;28;01mif\u001b[39;00m \u001b[34m__name__\u001b[39m == \u001b[33m\"\u001b[39m\u001b[33m__main__\u001b[39m\u001b[33m\"\u001b[39m:\n\u001b[32m----> \u001b[39m\u001b[32m2\u001b[39m     \u001b[43mmain\u001b[49m\u001b[43m(\u001b[49m\u001b[43m)\u001b[49m\n",
      "\u001b[36mCell\u001b[39m\u001b[36m \u001b[39m\u001b[32mIn[19]\u001b[39m\u001b[32m, line 21\u001b[39m, in \u001b[36mmain\u001b[39m\u001b[34m()\u001b[39m\n\u001b[32m     18\u001b[39m \u001b[38;5;66;03m# Perform Beam Search with Stochastic Pruning to select the best rows\u001b[39;00m\n\u001b[32m     19\u001b[39m target_size = \u001b[32m120\u001b[39m\n\u001b[32m---> \u001b[39m\u001b[32m21\u001b[39m top_candidates = \u001b[43mbeam_search_stochastic_pruning\u001b[49m\u001b[43m(\u001b[49m\u001b[43mdf_benchmark\u001b[49m\u001b[43m,\u001b[49m\u001b[43m \u001b[49m\u001b[43mdf_target\u001b[49m\u001b[43m,\u001b[49m\u001b[43m \u001b[49m\u001b[43mweights\u001b[49m\u001b[43m,\u001b[49m\u001b[43m \u001b[49m\u001b[43mtarget_size\u001b[49m\u001b[43m)\u001b[49m\n\u001b[32m     23\u001b[39m \u001b[38;5;66;03m# Write the results back to the Excel file, adding a new sample column\u001b[39;00m\n\u001b[32m     24\u001b[39m write_results_to_csv(df_benchmark, top_candidates)\n",
      "\u001b[36mCell\u001b[39m\u001b[36m \u001b[39m\u001b[32mIn[17]\u001b[39m\u001b[32m, line 43\u001b[39m, in \u001b[36mbeam_search_stochastic_pruning\u001b[39m\u001b[34m(df_benchmark, df_target, weights, target_size, beam_width, top_k)\u001b[39m\n\u001b[32m     40\u001b[39m available_indices = [i \u001b[38;5;28;01mfor\u001b[39;00m i \u001b[38;5;129;01min\u001b[39;00m \u001b[38;5;28mrange\u001b[39m(\u001b[38;5;28mlen\u001b[39m(df_benchmark)) \u001b[38;5;28;01mif\u001b[39;00m i \u001b[38;5;129;01mnot\u001b[39;00m \u001b[38;5;129;01min\u001b[39;00m candidate]\n\u001b[32m     42\u001b[39m \u001b[38;5;66;03m# Probabilities for stochastic sampling (bias toward earlier indices)\u001b[39;00m\n\u001b[32m---> \u001b[39m\u001b[32m43\u001b[39m \u001b[38;5;28;01mfor\u001b[39;00m idx \u001b[38;5;129;01min\u001b[39;00m \u001b[43msampled_indices\u001b[49m:\n\u001b[32m     44\u001b[39m     new_candidate = candidate + [idx]\n\u001b[32m     45\u001b[39m     \u001b[38;5;28;01mif\u001b[39;00m \u001b[38;5;28mlen\u001b[39m(new_candidate) == \u001b[38;5;28mlen\u001b[39m(\u001b[38;5;28mset\u001b[39m(new_candidate)):  \u001b[38;5;66;03m# Ensure uniqueness\u001b[39;00m\n",
      "\u001b[31mNameError\u001b[39m: name 'sampled_indices' is not defined"
     ]
    }
   ],
   "source": [
    "if __name__ == \"__main__\":\n",
    "    main()"
   ]
  }
 ],
 "metadata": {
  "kernelspec": {
   "display_name": ".venv",
   "language": "python",
   "name": "python3"
  },
  "language_info": {
   "codemirror_mode": {
    "name": "ipython",
    "version": 3
   },
   "file_extension": ".py",
   "mimetype": "text/x-python",
   "name": "python",
   "nbconvert_exporter": "python",
   "pygments_lexer": "ipython3",
   "version": "3.11.6"
  }
 },
 "nbformat": 4,
 "nbformat_minor": 2
}
