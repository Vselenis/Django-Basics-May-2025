{
 "cells": [
  {
   "cell_type": "code",
   "execution_count": 1,
   "metadata": {},
   "outputs": [],
   "source": [
    "import pandas as pd\n",
    "import numpy as np\n",
    "from openpyxl import load_workbook"
   ]
  },
  {
   "cell_type": "code",
   "execution_count": 2,
   "metadata": {},
   "outputs": [],
   "source": [
    "# Function to import the data from the Excel file\n",
    "def load_datasets(benchmark_file='Benchmark.csv', target_file='Target.csv'):\n",
    "    df_benchmark = pd.read_csv(benchmark_file, delimiter=',', decimal=',')\n",
    "    df_target = pd.read_csv(target_file, delimiter=',', decimal=',')\n",
    "\n",
    "    # Convert all columns to numeric, coercing errors to NaN\n",
    "    df_benchmark = df_benchmark.apply(pd.to_numeric, errors='coerce')\n",
    "    df_target = df_target.apply(pd.to_numeric, errors='coerce')\n",
    "\n",
    "    return df_benchmark, df_target"
   ]
  },
  {
   "cell_type": "code",
   "execution_count": 3,
   "metadata": {},
   "outputs": [],
   "source": [
    "# Function to calculate the necessary metrics for both datasets\n",
    "def calculate_metrics(df, target_size, weights):\n",
    "    metrics = {}\n",
    "\n",
    "    # Handle 'collection' and 'payments' separately\n",
    "    if 'Payments' in df.columns:\n",
    "        total_paid = df['Payments'].sum()  # Total paid\n",
    "        total_debt = df['Debt'].sum()  # Total debt\n",
    "        metrics['collection'] = total_paid / (total_debt + total_paid) if total_debt + total_paid != 0 else 0  # % of collection\n",
    "        metrics['payments'] = df['Payments'].notnull().sum() / len(df)\n",
    "    elif 'LP' in df.columns:\n",
    "        metrics['collection'] = None\n",
    "        metrics['payments'] = df['LP'].notnull().sum() / len(df)\n",
    "    else:\n",
    "        metrics['collection'] = None\n",
    "        metrics['payments'] = None\n",
    "\n",
    "    # Calculate mean for each metric in weights if the column exists\n",
    "    for column in weights.keys():\n",
    "        if column in ['collection', 'payments']:\n",
    "            continue  # already handled\n",
    "        metrics[column] = df[column].mean(skipna=True) if column in df.columns else None   # Calculate averages for all columns, skipping empty cells\n",
    "\n",
    "    return metrics"
   ]
  },
  {
   "cell_type": "code",
   "execution_count": 4,
   "metadata": {},
   "outputs": [],
   "source": [
    "# Objective function to minimize the difference between benchmark and target metrics\n",
    "def objective_function(selected_indices, df_benchmark, df_target, target_metrics, weights):\n",
    "    sample = df_benchmark.iloc[selected_indices]\n",
    "    sample_metrics = calculate_metrics(sample, len(selected_indices), weights)\n",
    "\n",
    "    percentage_diff = 0\n",
    "    for key in weights.keys():\n",
    "        sample_val = sample_metrics.get(key)\n",
    "        target_val = target_metrics.get(key)\n",
    "\n",
    "        if sample_val is None or target_val is None or target_val == 0:\n",
    "            continue  # Skip invalid comparisons\n",
    "\n",
    "        percentage_diff += weights[key] * abs((sample_val - target_val) / target_val) * 100\n",
    "\n",
    "    return percentage_diff\n"
   ]
  },
  {
   "cell_type": "code",
   "execution_count": 5,
   "metadata": {},
   "outputs": [],
   "source": [
    "# Beam Search with Stochastic Pruning\n",
    "def beam_search_stochastic_pruning(df_benchmark, df_target, weights, target_size, beam_width=24, n_best=5):\n",
    "    target_metrics = calculate_metrics(df_target, target_size, weights)\n",
    "    candidates = [[]]  # Start with an empty candidate list\n",
    "\n",
    "    for _ in range(target_size):\n",
    "        new_candidates = []\n",
    "\n",
    "        for candidate in candidates:\n",
    "            available_indices = [i for i in range(len(df_benchmark)) if i not in candidate]\n",
    "            probabilities = [1.0 / (i + 1) for i in range(len(available_indices))]\n",
    "            probabilities = np.array(probabilities) / sum(probabilities)\n",
    "\n",
    "            sampled_indices = np.random.choice(available_indices, size=min(beam_width, len(available_indices)), replace=False, p=probabilities)\n",
    "\n",
    "            for idx in sampled_indices:\n",
    "                new_candidate = candidate + [idx]\n",
    "                if len(new_candidate) == len(set(new_candidate)):\n",
    "                    new_candidates.append(new_candidate)\n",
    "\n",
    "        new_candidates = sorted(\n",
    "            new_candidates,\n",
    "            key=lambda x: objective_function(x, df_benchmark, df_target, target_metrics, weights)\n",
    "        )\n",
    "        candidates = new_candidates[:beam_width]\n",
    "\n",
    "    # Return top n_best unique solutions\n",
    "    final_candidates = sorted(candidates, key=lambda x: objective_function(x, df_benchmark, df_target, target_metrics, weights))\n",
    "    return final_candidates[:n_best]"
   ]
  },
  {
   "cell_type": "code",
   "execution_count": 6,
   "metadata": {},
   "outputs": [],
   "source": [
    "# Function to write results to a new CSV\n",
    "def write_results_to_csv(df_benchmark, list_of_selected_indices, benchmark_file='Benchmark.csv'):\n",
    "    for idx, selected_indices in enumerate(list_of_selected_indices, start=1):\n",
    "        sample_col = f'Sample {idx}'\n",
    "        df_benchmark[sample_col] = 0\n",
    "        df_benchmark.loc[selected_indices, sample_col] = 1\n",
    "\n",
    "    df_benchmark.to_csv(benchmark_file, sep=',', index=False)\n"
   ]
  },
  {
   "cell_type": "code",
   "execution_count": 7,
   "metadata": {},
   "outputs": [],
   "source": [
    "# Main function to run the process\n",
    "def main():\n",
    "    df_benchmark, df_target = load_datasets()\n",
    "\n",
    "    weights = {\n",
    "        'Debt': 0.20,\n",
    "        'GR': 0.05,\n",
    "        'LP': 0.10,\n",
    "        'DPD': 0.10,\n",
    "        'collection': 0.15,\n",
    "        'payments': 0.10\n",
    "    }\n",
    "\n",
    "    target_size = 50\n",
    "    n_best = 5  # Number of top samples to return\n",
    "\n",
    "    selected_samples = beam_search_stochastic_pruning(df_benchmark, df_target, weights, target_size, n_best=n_best)\n",
    "    write_results_to_csv(df_benchmark, selected_samples)"
   ]
  },
  {
   "cell_type": "code",
   "execution_count": 8,
   "metadata": {},
   "outputs": [],
   "source": [
    "if __name__ == \"__main__\":\n",
    "    main()"
   ]
  }
 ],
 "metadata": {
  "kernelspec": {
   "display_name": ".venv",
   "language": "python",
   "name": "python3"
  },
  "language_info": {
   "codemirror_mode": {
    "name": "ipython",
    "version": 3
   },
   "file_extension": ".py",
   "mimetype": "text/x-python",
   "name": "python",
   "nbconvert_exporter": "python",
   "pygments_lexer": "ipython3",
   "version": "3.11.6"
  }
 },
 "nbformat": 4,
 "nbformat_minor": 2
}
