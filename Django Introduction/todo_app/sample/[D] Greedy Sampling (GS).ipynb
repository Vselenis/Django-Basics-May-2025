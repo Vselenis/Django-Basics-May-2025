{
 "cells": [
  {
   "cell_type": "code",
   "execution_count": 17,
   "metadata": {},
   "outputs": [],
   "source": [
    "import pandas as pd\n",
    "from openpyxl import load_workbook"
   ]
  },
  {
   "cell_type": "code",
   "execution_count": 18,
   "metadata": {},
   "outputs": [],
   "source": [
    "# Function to import the data from the Excel file\n",
    "def load_datasets(benchmark_file='Benchmark.csv', target_file='Target.csv'):\n",
    "    # Read CSV, using comma as the decimal separator\n",
    "    df_benchmark = pd.read_csv(benchmark_file, delimiter=';', decimal=',')\n",
    "    df_target = pd.read_csv(target_file, delimiter=';', decimal=',')\n",
    "\n",
    "    # Convert all columns to numeric, coercing errors to NaN\n",
    "    df_benchmark = df_benchmark.apply(pd.to_numeric, errors='coerce')\n",
    "    df_target = df_target.apply(pd.to_numeric, errors='coerce')\n",
    "\n",
    "    return df_benchmark, df_target"
   ]
  },
  {
   "cell_type": "code",
   "execution_count": 19,
   "metadata": {},
   "outputs": [],
   "source": [
    "# Function to calculate the necessary metrics for both datasets\n",
    "def calculate_metrics(df, target_size, weights):\n",
    "    metrics = {}\n",
    "\n",
    "    # Handle 'collection' and 'payments' separately\n",
    "    if 'Payments' in df.columns:\n",
    "        total_paid = df['Payments'].sum()  # Total paid\n",
    "        total_debt = df['Debt'].sum()  # Total debt\n",
    "        metrics['collection'] = total_paid / (total_debt + total_paid) if total_debt + total_paid != 0 else 0  # % of collection\n",
    "        metrics['payments'] = df['Payments'].notnull().sum() / len(df)\n",
    "    elif 'LP' in df.columns:\n",
    "        metrics['collection'] = None\n",
    "        metrics['payments'] = df['LP'].notnull().sum() / len(df)\n",
    "    else:\n",
    "        metrics['collection'] = None\n",
    "        metrics['payments'] = None\n",
    "\n",
    "    # Calculate mean for each metric in weights if the column exists\n",
    "    for column in weights.keys():\n",
    "        if column in ['collection', 'payments']:\n",
    "            continue  # already handled\n",
    "        metrics[column] = df[column].mean(skipna=True) if column in df.columns else None   # Calculate averages for all columns, skipping empty cells\n",
    "\n",
    "    return metrics"
   ]
  },
  {
   "cell_type": "code",
   "execution_count": 20,
   "metadata": {},
   "outputs": [],
   "source": [
    "\n",
    "# Objective function to minimize the difference between benchmark and target metrics\n",
    "def objective_function(x, df_benchmark, df_target, target_metrics, weights):\n",
    "    selected_indices = [int(i) for i in x]  # Convert row numbers to integers\n",
    "    sample = df_benchmark.iloc[selected_indices]  # Select rows based on indices\n",
    "    sample_metrics = calculate_metrics(sample, len(selected_indices), weights)  # Calculate metrics for sample\n",
    "\n",
    "    # Calculate the weighted percentage difference\n",
    "    percentage_diff = 0\n",
    "    for key in weights.keys():\n",
    "        percentage_diff += weights[key] * abs((sample_metrics[key] - target_metrics[key]) / target_metrics[key]) * 100\n",
    "\n",
    "    return percentage_diff"
   ]
  },
  {
   "cell_type": "code",
   "execution_count": 21,
   "metadata": {},
   "outputs": [],
   "source": [
    "# Greedy Sampling function to ensure uniqueness\n",
    "def greedy_sampling(df_benchmark, df_target, weights, target_size):\n",
    "    target_metrics = calculate_metrics(df_target, target_size, weights)\n",
    "    selected_indices = set()  # Using a set to keep track of unique indices\n",
    "\n",
    "    # Greedy approach: iteratively select the best row minimizing the difference\n",
    "    while len(selected_indices) < target_size:\n",
    "        best_index = None\n",
    "        best_diff = float('inf')\n",
    "\n",
    "        for i in range(len(df_benchmark)):\n",
    "            if i in selected_indices:\n",
    "                continue  # Skip if already selected\n",
    "\n",
    "            temp_indices = selected_indices.union({i})\n",
    "            temp_sample = df_benchmark.iloc[list(temp_indices)]\n",
    "            temp_metrics = calculate_metrics(temp_sample, len(temp_indices), weights)\n",
    "            temp_diff = sum(weights[key] * abs((temp_metrics[key] - target_metrics[key]) / target_metrics[key]) * 100\n",
    "                        for key in weights\n",
    "                        if temp_metrics.get(key) is not None and target_metrics.get(key) is not None and target_metrics.get(key) != 0)\n",
    "\n",
    "\n",
    "            if temp_diff < best_diff:\n",
    "                best_diff = temp_diff\n",
    "                best_index = i\n",
    "\n",
    "        if best_index is not None:\n",
    "            selected_indices.add(best_index)\n",
    "\n",
    "    return list(selected_indices)"
   ]
  },
  {
   "cell_type": "code",
   "execution_count": 22,
   "metadata": {},
   "outputs": [],
   "source": [
    "# Function to write results to a new CSV\n",
    "def write_results_to_csv(df_benchmark, selected_indices, benchmark_file='Benchmark.csv'):\n",
    "    # Determine the new sample column name (e.g., Sample 1, Sample 2, etc.)\n",
    "    sample_cols = [col for col in df_benchmark.columns if str(col).startswith(\"Sample\")]\n",
    "    new_sample_col = f'Sample {len(sample_cols) + 1}'\n",
    "\n",
    "    # Add the new column initialized to 0\n",
    "    df_benchmark[new_sample_col] = 0\n",
    "\n",
    "    # Set the value to 1 for selected rows\n",
    "    df_benchmark.loc[selected_indices, new_sample_col] = 1\n",
    "\n",
    "    # Write updated dataframe back to CSV\n",
    "    df_benchmark.to_csv(benchmark_file, sep=';', index=False)"
   ]
  },
  {
   "cell_type": "code",
   "execution_count": 23,
   "metadata": {},
   "outputs": [],
   "source": [
    "# Main function to run the process\n",
    "def main():\n",
    "    df_benchmark, df_target = load_datasets()\n",
    "\n",
    "    # Define the column weights\n",
    "    weights = {\n",
    "        'Debt': 0.20,\n",
    "        'GR': 0.05,\n",
    "        'LP': 0.10,        \n",
    "        'DPD': 0.10,\n",
    "        'collection': 0.15,\n",
    "        'payments': 0.10\n",
    "    }\n",
    "\n",
    "\n",
    "    # Perform greedy sampling to select the best rows\n",
    "    target_size = 50\n",
    "    selected_indices = greedy_sampling(df_benchmark, df_target, weights, target_size)\n",
    "\n",
    "    # Write the results back to the Excel file, adding a new sample column\n",
    "    write_results_to_csv(df_benchmark, selected_indices)"
   ]
  },
  {
   "cell_type": "code",
   "execution_count": 24,
   "metadata": {},
   "outputs": [],
   "source": [
    "if __name__ == \"__main__\": \n",
    "    main()"
   ]
  }
 ],
 "metadata": {
  "kernelspec": {
   "display_name": ".venv",
   "language": "python",
   "name": "python3"
  },
  "language_info": {
   "codemirror_mode": {
    "name": "ipython",
    "version": 3
   },
   "file_extension": ".py",
   "mimetype": "text/x-python",
   "name": "python",
   "nbconvert_exporter": "python",
   "pygments_lexer": "ipython3",
   "version": "3.11.6"
  }
 },
 "nbformat": 4,
 "nbformat_minor": 2
}
